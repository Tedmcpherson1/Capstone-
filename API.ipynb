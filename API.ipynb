{
 "cells": [
  {
   "cell_type": "code",
   "execution_count": null,
   "id": "94dc6c13-75ee-46a0-80a4-07075286ba37",
   "metadata": {},
   "outputs": [],
   "source": []
  },
  {
   "cell_type": "code",
   "execution_count": 3,
   "id": "4fd92abb-52d4-490e-9b9e-0d420ad39aaf",
   "metadata": {
    "tags": []
   },
   "outputs": [],
   "source": [
    "spacex_url=\"https://api.spacexdata.com/v4/launches/past\""
   ]
  }
 ],
 "metadata": {
  "kernelspec": {
   "display_name": "Python",
   "language": "python",
   "name": "conda-env-python-py"
  },
  "language_info": {
   "codemirror_mode": {
    "name": "ipython",
    "version": 3
   },
   "file_extension": ".py",
   "mimetype": "text/x-python",
   "name": "python",
   "nbconvert_exporter": "python",
   "pygments_lexer": "ipython3",
   "version": "3.7.12"
  }
 },
 "nbformat": 4,
 "nbformat_minor": 5
}
